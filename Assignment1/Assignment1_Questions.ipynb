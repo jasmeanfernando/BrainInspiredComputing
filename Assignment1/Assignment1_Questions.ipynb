{
 "cells": [
  {
   "cell_type": "markdown",
   "metadata": {},
   "source": [
    "# Learning Goals\n",
    "\n",
    "The goal of this assignment is to develop an understanding of how the brain performs computations at the neuronal level. To do so, you will develop several models of a spiking neuron. By the end of this assignment, you should a) be comfortable with developing models of spiking neurons at different levels of abstraction, from the biologically plausible H-H model to the phenomenological LIF model; b) understand how neurons use their firing rate to represent continuous-valued information; and c) understand the trade-offs involved in spike-based information representation. \n",
    "\n",
    "*More theoretical information can be found here: https://neuronaldynamics.epfl.ch/online/Ch2.html*\n",
    "\n",
    "Let's first import all the libraries required for this assignment"
   ]
  },
  {
   "cell_type": "code",
   "execution_count": 1,
   "metadata": {},
   "outputs": [],
   "source": [
    "import math\n",
    "import numpy as np\n",
    "from scipy.integrate import odeint\n",
    "import matplotlib.pyplot as plt\n",
    "import torchvision\n",
    "import torchvision.datasets as datasets\n",
    "from torchvision import transforms"
   ]
  },
  {
   "cell_type": "markdown",
   "metadata": {},
   "source": [
    "# Question 1: The Hodgkin Huxley Neuron\n",
    "\n",
    "Before proceeding, please thoroughly review the [WIKI link](https://en.wikipedia.org/wiki/Hodgkin%E2%80%93Huxley_model)  and the research paper by Hodgkin and Huxley titled [Hodgkin A L, Huxley A F. A quantitative description of membrane current and its application to conduction and excitation in nerve, 1952](./HH.pdf). All necessary information for the Question 1 can be found in these sources. Additionally, please note the following:\n",
    "\n",
    "1. To ensure depolarization is interpreted as a positive event, indicating the influx of positive ions into a neuron resulting in increased positivity at points of equilibrium voltage or constant, the sign on relevant variables should be reversed.\n",
    "2. Utilize the formulas provided in the Wikipedia article as a framework for the code. (The formulas have been adjusted the notation in accordance with the reversal described in point 1).\n",
    "3. Attempt to comprehend the underlying logic derived from the formulas rather than solely seeking the solution. By doing so, you'll seize the chance to grasp the intricacies of Nobel Prize-worthy research.\n",
    "\n",
    "\n",
    "## 1a.\n",
    "\n",
    "We will start by implementing the different computational models of a spiking neuron, with the aim of understanding the differences between the different models. We will start with one of the earliest, yet one of the most biologically faithful models of a neuron - The Hodgkin-Huxley (HH) model. Below is the class definition of an HH neuron. Your first task is to fill the different components required to simulate an HH neuron.\n"
   ]
  },
  {
   "cell_type": "code",
   "execution_count": 2,
   "metadata": {},
   "outputs": [],
   "source": [
    "class HodgkinHuxley():\n",
    "    \"\"\"Implementation of Hodgkin Huxley Model\"\"\"\n",
    "    def __init__(self, C_m, g_Na, g_K, g_L, E_Na, E_K, E_L, T, dt, reset, I_inj):\n",
    "        \"\"\"\n",
    "        :param C_m: membrane capacitance in uF/cm^2\n",
    "        :param g_Na: Sodium conductance in mS/cm^2\n",
    "        :param g_K: Potassium conductance in ms/cm^2\n",
    "        :param g_L: Leak maximum conductance\n",
    "        :param E_Na: Sodium Nernst reversal potential in mV\n",
    "        :param E_K: Potassium Nernst reversal potential in mV\n",
    "        :param E_L: Leak Nernst reversal potential in mV\n",
    "        :param T: Simulation timesteps\n",
    "        :param dt: Integration time \n",
    "        :param reset: Reset potential\n",
    "        :param I_ink: injected current\n",
    "        \n",
    "        This function is complete. You do not need to do anything here.\n",
    "        \"\"\"\n",
    "        self.C_m = C_m \n",
    "        self.g_Na = g_Na \n",
    "        self.g_K = g_K\n",
    "        self.g_L = g_L\n",
    "        self.E_Na = E_Na\n",
    "        self.E_K = E_K\n",
    "        self.E_L = E_L\n",
    "        self.T = T\n",
    "        self.dt = dt\n",
    "        self.t = np.arange(0, self.T, self.dt) #* time to integrate over\n",
    "        self.n = np.zeros_like(self.t) #* history array to record all the \"n\"\n",
    "        self.m = np.zeros_like(self.t) #* history array to record all the \"m\"\n",
    "        self.h = np.zeros_like(self.t) #* history array to record all the \"h\"\n",
    "        self.V = np.zeros_like(self.t) #* history array to record all the \"V\"\n",
    "        self.reset = reset\n",
    "        self.I_inj = I_inj\n",
    "    \n",
    "    def alpha_m(self, V):\n",
    "        \"\"\"\n",
    "        Channel gating kinetics\n",
    "        :param V: membrane voltage\n",
    "        :return: alpha_m\n",
    "        \n",
    "        Fill in the equation for alpha_m\n",
    "        \"\"\"\n",
    "        res = 0.1 * ((-V + 25) / (np.exp((-V + 25) / 10) - 1))\n",
    "        #print('alpha_m,', res)\n",
    "        return res\n",
    "    \n",
    "    def beta_m(self, V):\n",
    "        \"\"\"\n",
    "        Channel gating kinetics\n",
    "        :param V: membrane voltage\n",
    "        :return: beta_m\n",
    "        \n",
    "        Fill in the equation for beta_m\n",
    "        \"\"\"\n",
    "        res = 4 * np.exp(-V / 18)\n",
    "        #print('beta_m,', res)\n",
    "        return res\n",
    "    \n",
    "    def alpha_h(self, V):\n",
    "        \"\"\"\n",
    "        Channel gating kinetics\n",
    "        :param V: membrane voltage\n",
    "        :return: alpha_h\n",
    "        \n",
    "        Fill in the equation for alpha_h\n",
    "        \"\"\"\n",
    "        res = 0.07 * np.exp(-V / 20)\n",
    "        #print('alpha_h,', res)\n",
    "        return res\n",
    "    \n",
    "    def beta_h(self, V):\n",
    "        \"\"\"\n",
    "        Channel gating kinetics\n",
    "        :param V: membrane voltage\n",
    "        :return: beta_h\n",
    "        \n",
    "        Fill in the equation for beta_h\n",
    "        \"\"\"\n",
    "        res = 1.0 / (1 + np.exp((-V + 30) / 10))\n",
    "        #print('beta_h,', res)\n",
    "        return res\n",
    "    \n",
    "    def alpha_n(self, V):\n",
    "        \"\"\"\n",
    "        Channel gating kinetics\n",
    "        :param V: membrane voltage\n",
    "        :return: alpha_n\n",
    "        \n",
    "        Fill in the equation for alpha_n\n",
    "        \"\"\"\n",
    "        res = 0.01 * ((-V + 10) / (np.exp((-V + 10) / 10) - 1))\n",
    "        #print('alpha_n,', res)\n",
    "        return res\n",
    "    \n",
    "    def beta_n(self, V):\n",
    "        \"\"\"\n",
    "        Channel gating kinetics\n",
    "        :param V: membrane voltage\n",
    "        :return: beta_n\n",
    "        \n",
    "        Fill in the equation for beta_n\n",
    "        \"\"\"\n",
    "        res = 0.125 * np.exp(-V / 80)\n",
    "        #print('beta_n,', res)\n",
    "        return res\n",
    "    \n",
    "    def I_Na(self, V, m, h):\n",
    "        \"\"\"\n",
    "        Membrane Sodium current\n",
    "        :param V: membrane voltage\n",
    "        :param m: gating variable m\n",
    "        :param h: gating variable h\n",
    "        :return: sodium current I_Na\n",
    "        \n",
    "        Fill in the equation for I_Na\n",
    "        \"\"\"\n",
    "        res = self.g_Na * (m ** 3) * h * (V - self.E_Na)\n",
    "        #print('I_Na,', res)\n",
    "        return res\n",
    "    \n",
    "    def I_K(self, V, n):\n",
    "        \"\"\"\n",
    "        Membrane Potassium current\n",
    "        :param V: membrane voltage\n",
    "        :param h: gating variable h\n",
    "        :return: Potassium current I_K\n",
    "        \n",
    "        Fill in the equation for I_K\n",
    "        \"\"\"\n",
    "        res = self.g_K * (n ** 4) * (V - self.E_K)\n",
    "        #print('I_K,', res)\n",
    "        return res\n",
    "    \n",
    "    def I_L(self, V):\n",
    "        \"\"\"\n",
    "        Membrane Leak current\n",
    "        :param V: membrane voltage\n",
    "        :return: Leak current I_L\n",
    "        \n",
    "        Fill in the equation for I_L\n",
    "        \"\"\"\n",
    "        res = self.g_L * (V - self.E_L)\n",
    "        #print('I_L,', res)\n",
    "        return res\n",
    "    \n",
    "    def update(self, t):\n",
    "        \"\"\"\n",
    "        Function to integrate membrane potential and activation variables by timestep t.\n",
    "        :param t: timestep\n",
    "\n",
    "        \"\"\"\n",
    "        if t > 0:\n",
    "            #* When timestep is not 0, update the \"n\", \"m\", \"h\", \"V\".\n",
    "            temp_I_Na = self.I_Na(self.V[t-1], self.m[t-1], self.h[t-1])\n",
    "            temp_I_K = self.I_K(self.V[t-1], self.n[t-1])\n",
    "            temp_I_L = self.I_L(self.V[t-1])\n",
    "            I_ion = self.I_inj - temp_I_Na - temp_I_K - temp_I_L\n",
    "            \n",
    "            self.V[t] = ((1 / self.C_m) * I_ion * self.dt)\n",
    "            self.V[t] += self.V[t-1]\n",
    "            \n",
    "            self.n[t] = self.dt * (self.alpha_n(self.V[t-1]) * (1 - self.n[t-1]) - self.beta_n(self.V[t-1]) * self.n[t-1])\n",
    "            self.n[t] += self.n[t-1]\n",
    "            \n",
    "            self.m[t] = self.dt * (self.alpha_m(self.V[t-1]) * (1 - self.m[t-1]) - self.beta_m(self.V[t-1]) * self.m[t-1])\n",
    "            self.m[t] += self.m[t-1]\n",
    "            \n",
    "            self.h[t] = self.dt * (self.alpha_h(self.V[t-1]) * (1 - self.h[t-1]) - self.beta_h(self.V[t-1]) * self.h[t-1])\n",
    "            self.h[t] += self.h[t-1]\n",
    "        else:\n",
    "            self.n[t] = self.alpha_n(self.V[t]) / (self.alpha_n(self.V[t]) + self.beta_n(self.V[t]))\n",
    "            self.m[t] = self.alpha_m(self.V[t]) / (self.alpha_m(self.V[t]) + self.beta_m(self.V[t]))\n",
    "            self.h[t] = self.alpha_h(self.V[t]) / (self.alpha_h(self.V[t]) + self.beta_h(self.V[t]))\n",
    "\n",
    "    \n",
    "    def run(self):\n",
    "        \"\"\"\n",
    "        Main function to simulate HH neuron and plot voltage and current against time.\n",
    "        \n",
    "        This part is complete. DO NOT change this code. You do not need to fill anything here. \n",
    "        \"\"\"\n",
    "        _ = [self.update(t) for t in range(len(self.t))]\n",
    "        self.V += self.reset"
   ]
  },
  {
   "cell_type": "markdown",
   "metadata": {},
   "source": [
    "## 1b. \n",
    "Initialize an HH neuron using a proper set of parameters; then run the simulation. You should be able to get a plot depicting how the Voltage and Current of the neuron change with time. The result should looks like this ->\n",
    "\n",
    "\n",
    "![1b](./1b.png)"
   ]
  },
  {
   "cell_type": "code",
   "execution_count": 3,
   "metadata": {},
   "outputs": [
    {
     "data": {
      "image/png": "[encoded data removed]",
      "text/plain": [
       "<Figure size 576x432 with 2 Axes>"
      ]
     },
     "metadata": {
      "needs_background": "light"
     },
     "output_type": "display_data"
    }
   ],
   "source": [
    "\"\"\"\n",
    "(1. Initialize an hh neuron using the class definition above)\n",
    "You can find all the corresponding values in the paper\n",
    "Do not forget to reverse the signs of the one related to voltage!\n",
    "\"\"\"\n",
    "hh = HodgkinHuxley(\n",
    "    C_m = 1,\n",
    "    g_Na = 120,\n",
    "    g_K = 36,\n",
    "    g_L = 0.3,\n",
    "    E_Na = 115,\n",
    "    E_K = -12,\n",
    "    E_L = 10.613,\n",
    "    T = 100,\n",
    "    dt = 0.01,\n",
    "    reset = -60,\n",
    "    I_inj = 50\n",
    ")\n",
    "\n",
    "#2. Run the hh neuron simulation.\n",
    "hh.run()\n",
    "\n",
    "#3 Plot it.\n",
    "\"\"\"\n",
    "(DO NOT edit the plot code)\n",
    "\"\"\"\n",
    "fig, (ax1, ax2) = plt.subplots(2, 1, figsize=(8, 6))\n",
    "# plt.title(\"Hodgkin-Huxley Neuron\")\n",
    "ax1.axhline(0, color=\"k\", linestyle=\"--\", alpha=0.5)\n",
    "ax1.axhline(hh.reset, color=\"k\", linestyle=\"--\", alpha=0.5)\n",
    "ax1.plot(hh.t, hh.V, \"k\")\n",
    "ax1.set_ylabel(\"V\")\n",
    "ax1.set_ylim(-80, np.max(hh.V) + 10)\n",
    "ax1.set_xticks([])\n",
    "ax1.set_xticklabels([])\n",
    "I_inj = [hh.I_inj for t in hh.t]\n",
    "ax2.plot(hh.t, I_inj, \"k\")\n",
    "ax2.set_xlabel(\"t\")\n",
    "ax2.axhline(0, color=\"k\", linestyle=\"--\", alpha=0.5)\n",
    "ax2.set_ylabel(\"$I_{inj}$ ($\\\\mu{A}/cm^2$)\")\n",
    "ax2.set_ylim(-1, np.max(I_inj) + 10)\n",
    "\n",
    "plt.show()"
   ]
  },
  {
   "cell_type": "markdown",
   "metadata": {},
   "source": [
    "## 1c. \n",
    "The beauty of a neurophysiologically accurate model of a neuron is that it allows the simulation of several phenomena that can take place in the brain. Assume that you administer a drug named Tetrodotoxin (TTX), which is a potent neurotoxin that inhibits the voltage-gated sodium channels, and therefore decreases the sodium current. Simulate the effects that administering TTX would have on the neural firing.  Do the same for another drug, pronase,\n",
    "which eliminates sodium inactivation. "
   ]
  },
  {
   "cell_type": "code",
   "execution_count": 4,
   "metadata": {},
   "outputs": [
    {
     "data": {
      "image/png": "[encoded data removed]",
      "text/plain": [
       "<Figure size 576x432 with 2 Axes>"
      ]
     },
     "metadata": {
      "needs_background": "light"
     },
     "output_type": "display_data"
    },
    {
     "data": {
      "image/png": "[encoded data removed]",
      "text/plain": [
       "<Figure size 576x432 with 2 Axes>"
      ]
     },
     "metadata": {
      "needs_background": "light"
     },
     "output_type": "display_data"
    }
   ],
   "source": [
    "#1. Initialize an hh neuron to simulate TTX.\n",
    "hh_ttx = HodgkinHuxley(\n",
    "    C_m = 1,\n",
    "    g_Na = 50, # Inhibits voltage-gated sodium channels by decreasing sodium conductance.\n",
    "    g_K = 36,\n",
    "    g_L = 0.3,\n",
    "    E_Na = 115,\n",
    "    E_K = -12,\n",
    "    E_L = 10.613,\n",
    "    T = 100,\n",
    "    dt = 0.01,\n",
    "    reset = -60,\n",
    "    I_inj = 50\n",
    ")\n",
    "\n",
    "#2. Run the hh neuron simulation.\n",
    "hh_ttx.run()\n",
    "\n",
    "##3. Plot it.\n",
    "fig, (ax1, ax2) = plt.subplots(2, 1, figsize=(8, 6))\n",
    "# plt.title(\"Hodgkin-Huxley Neuron\")\n",
    "ax1.axhline(0, color=\"k\", linestyle=\"--\", alpha=0.5)\n",
    "ax1.axhline(hh_ttx.reset, color=\"k\", linestyle=\"--\", alpha=0.5)\n",
    "ax1.plot(hh_ttx.t, hh_ttx.V, \"k\")\n",
    "ax1.set_ylabel(\"V\")\n",
    "ax1.set_ylim(-80, np.max(hh_ttx.V) + 10)\n",
    "ax1.set_xticks([])\n",
    "ax1.set_xticklabels([])\n",
    "I_inj = [hh_ttx.I_inj for t in hh_ttx.t]\n",
    "ax2.plot(hh_ttx.t, I_inj, \"k\")\n",
    "ax2.set_xlabel(\"t\")\n",
    "ax2.axhline(0, color=\"k\", linestyle=\"--\", alpha=0.5)\n",
    "ax2.set_ylabel(\"$I_{inj}$ ($\\\\mu{A}/cm^2$)\")\n",
    "ax2.set_ylim(-1, np.max(I_inj) + 10)\n",
    "\n",
    "plt.show()\n",
    "\n",
    "#3. Initialize an hh neuron to simulate pronase.\n",
    "hh_pr = HodgkinHuxley(\n",
    "    C_m = 1,\n",
    "    g_Na = 120,\n",
    "    g_K = 36,\n",
    "    g_L = 0.3,\n",
    "    E_Na = 115,\n",
    "    E_K = -12,\n",
    "    E_L = 10.613,\n",
    "    T = 100,\n",
    "    dt = 0.01,\n",
    "    reset = -60,\n",
    "    I_inj = 50\n",
    ")\n",
    "hh_pr.h = np.ones_like(hh_pr.t) # Eliminates sodium inactivation by maximizing h (sodium channel subunit inactivation).\n",
    "\n",
    "#4. Run the hh neuron simulation.\n",
    "hh_pr.run()\n",
    "\n",
    "##6. Plot it.\n",
    "fig, (ax1, ax2) = plt.subplots(2, 1, figsize=(8, 6))\n",
    "# plt.title(\"Hodgkin-Huxley Neuron\")\n",
    "ax1.axhline(0, color=\"k\", linestyle=\"--\", alpha=0.5)\n",
    "ax1.axhline(hh_pr.reset, color=\"k\", linestyle=\"--\", alpha=0.5)\n",
    "ax1.plot(hh_pr.t, hh_pr.V, \"k\")\n",
    "ax1.set_ylabel(\"V\")\n",
    "ax1.set_ylim(-80, np.max(hh_pr.V) + 10)\n",
    "ax1.set_xticks([])\n",
    "ax1.set_xticklabels([])\n",
    "I_inj = [hh_pr.I_inj for t in hh_pr.t]\n",
    "ax2.plot(hh_pr.t, I_inj, \"k\")\n",
    "ax2.set_xlabel(\"t\")\n",
    "ax2.axhline(0, color=\"k\", linestyle=\"--\", alpha=0.5)\n",
    "ax2.set_ylabel(\"$I_{inj}$ ($\\\\mu{A}/cm^2$)\")\n",
    "ax2.set_ylim(-1, np.max(I_inj) + 10)\n",
    "\n",
    "plt.show()"
   ]
  },
  {
   "cell_type": "markdown",
   "metadata": {},
   "source": [
    "## 1d. (extra 10 points)\n",
    "\n",
    "Try to modify the code in the “HodgkinHuxley” class to dynamically show how the HH model will behave as the current magnitude increases. The expected gif results should look like ->\n",
    "\n",
    " ![here](./1d.gif)"
   ]
  },
  {
   "cell_type": "code",
   "execution_count": 5,
   "metadata": {},
   "outputs": [
    {
     "data": {
      "text/plain": [
       "'\\n1. Change the color of Spike line to \"cyan\"\\n2. the INJECTED current increases from -12 to 120\\n'"
      ]
     },
     "execution_count": 5,
     "metadata": {},
     "output_type": "execute_result"
    }
   ],
   "source": [
    "\"\"\"\n",
    "1. Change the color of Spike line to \"cyan\"\n",
    "2. the INJECTED current increases from -12 to 120\n",
    "\"\"\""
   ]
  },
  {
   "cell_type": "markdown",
   "metadata": {},
   "source": [
    "# Question 2: The Izhikevich Neuron\n",
    "\n",
    "## 2a.\n",
    "We will now implement an Izhikevich (Izhi) neuron model. Below is the class definition of an Izhi neuron. Like before, your task is to fill in the different components required to simulate an Izhi neuron. You should notice one key difference in the implementation: While our HH implementation relied on the odeint libary from scipy for integration, here we will use 'Euler's method' to integrate. The Euler's method is very intuitive, simple, and can be easily implemented. For your reference, the dynamics of an Izhi neuron are described in equations 1, 2, 3 in the paper: https://www.izhikevich.org/publications/spikes.pdf"
   ]
  },
  {
   "cell_type": "code",
   "execution_count": 6,
   "metadata": {},
   "outputs": [],
   "source": [
    "class Izhi():\n",
    "    \"\"\"Implementation of the Izhikevich neuron Model\"\"\"\n",
    "    def __init__(self, a, b, c, d, Vth, T, dt):\n",
    "        \"\"\"\n",
    "        :param a, b, c, d: Izhi neuron parameters\n",
    "        :param Vth: Voltage threshold for spiking\n",
    "        :param T: Simulation timesteps\n",
    "        :param dt: Integration time \n",
    "        \n",
    "        This function is complete. You do not need to do anything here.\n",
    "        \"\"\"\n",
    "        self.a = a\n",
    "        self.b = b\n",
    "        self.c = c\n",
    "        self.d = d\n",
    "        self.Vth = Vth\n",
    "        self.u = self.b * self.c # Initialize u.\n",
    "        self.T = T\n",
    "        self.dt = dt\n",
    "        self.t = np.arange(0, self.T, self.dt)\n",
    "        self.I = 10 # Input stimulus current.\n",
    "        \n",
    "    def run(self):\n",
    "        \"\"\"\n",
    "        Main function to simulate Izhi neuron and plot voltage and current against time.\n",
    "        Fill in the update equations for du, dv, v[t] and u[t] and resetting on spiking.\n",
    "        \"\"\"\n",
    "        V = np.zeros(len(self.t)) # Initialize a numpy array containing the membrane voltages for all the timesteps.\n",
    "        V[0] = self.c # Initial membrane voltage is the rest potential, defined by the parameter 'c'.\n",
    "        \n",
    "        u = np.zeros(len(self.t)) # Initialize a numpy array containing u for all the timesteps.\n",
    "        u[0] = self.u # Initialize u.\n",
    "        \n",
    "        for t in range(1, len(self.t)): # The time loop for performing euler's integration.\n",
    "            dv = 0.04 * (V[t-1] ** 2) + 5 * V[t-1] + 140 - u[t-1] + self.I # Compute increment in voltage.\n",
    "            du = self.a * (self.b * V[t-1] - u[t-1]) # Compute increment in u.\n",
    "            \n",
    "            V[t] = V[t-1] + dv * self.dt # Update voltage.\n",
    "            u[t] = u[t-1] + du * self.dt # Update u.\n",
    "            \n",
    "            # Condition for when membrane potential is greater than the threshold.\n",
    "            if V[t] >= self.Vth:\n",
    "                V[t] = self.c # Reset v.\n",
    "                u[t] += self.d # Reset u.\n",
    "        \n",
    "        # Plotting.\n",
    "        \"\"\"This function is complete. You do not need to do anything here\"\"\"\n",
    "        plt.figure()\n",
    "        plt.subplot(2,1,1)\n",
    "        plt.title('Izhi Neuron')\n",
    "        plt.plot(self.t, V, 'k')\n",
    "        plt.ylabel('V')\n",
    "        \n",
    "        plt.figure()\n",
    "        plt.subplot(2,1,2)\n",
    "        i_inj = [self.I for t in self.t]\n",
    "        plt.plot(self.t, i_inj, 'k')\n",
    "        plt.xlabel('t')\n",
    "        plt.ylabel('$I_{inj}$ ($\\\\mu{A}/cm^2$)')\n",
    "        \n",
    "        plt.show()"
   ]
  },
  {
   "cell_type": "markdown",
   "metadata": {},
   "source": [
    "## 2b. \n",
    "Initialize an Izhi neuron with the correct parameters and run the simulation. You should again be able to get a plot depicting how the Voltage and Current of the neuron change with time. "
   ]
  },
  {
   "cell_type": "code",
   "execution_count": 7,
   "metadata": {},
   "outputs": [
    {
     "data": {
      "image/png": "[encoded data removed]",
      "text/plain": [
       "<Figure size 432x288 with 1 Axes>"
      ]
     },
     "metadata": {
      "needs_background": "light"
     },
     "output_type": "display_data"
    },
    {
     "data": {
      "image/png": "[encoded data removed]",
      "text/plain": [
       "<Figure size 432x288 with 1 Axes>"
      ]
     },
     "metadata": {
      "needs_background": "light"
     },
     "output_type": "display_data"
    }
   ],
   "source": [
    "#1. Initialize an izhikevich neuron with the appropriate parameters.\n",
    "izhi_neuron = Izhi(\n",
    "    a = 0.02, # These parameters create regular-spiking.\n",
    "    b = 0.25,\n",
    "    c = -65,\n",
    "    d = 8,\n",
    "    Vth = 30,\n",
    "    T = 100,\n",
    "    dt = 0.01\n",
    ")\n",
    "\n",
    "#2. Run the simulation and obtain the results.\n",
    "izhi_neuron.run()"
   ]
  },
  {
   "cell_type": "markdown",
   "metadata": {},
   "source": [
    "## 2c.\n",
    "Change the parameters of the Izhi neuron in the code to replicate two different patterns identified in neurons, e.g., bursting and adaptation. You can find the parameters for several different Izhi models here: https://www.izhikevich.org/publications/spikes.pdf"
   ]
  },
  {
   "cell_type": "code",
   "execution_count": 8,
   "metadata": {},
   "outputs": [
    {
     "data": {
      "image/png": "[encoded data removed]",
      "text/plain": [
       "<Figure size 432x288 with 1 Axes>"
      ]
     },
     "metadata": {
      "needs_background": "light"
     },
     "output_type": "display_data"
    },
    {
     "data": {
      "image/png": "[encoded data removed]",
      "text/plain": [
       "<Figure size 432x288 with 1 Axes>"
      ]
     },
     "metadata": {
      "needs_background": "light"
     },
     "output_type": "display_data"
    },
    {
     "data": {
      "image/png": "[encoded data removed]",
      "text/plain": [
       "<Figure size 432x288 with 1 Axes>"
      ]
     },
     "metadata": {
      "needs_background": "light"
     },
     "output_type": "display_data"
    },
    {
     "data": {
      "image/png": "[encoded data removed]",
      "text/plain": [
       "<Figure size 432x288 with 1 Axes>"
      ]
     },
     "metadata": {
      "needs_background": "light"
     },
     "output_type": "display_data"
    }
   ],
   "source": [
    "# Write your implementation of the bursting and chattering neuron here.\n",
    "#1. Initialize an izhikevich neuron with the appropriate parameters.\n",
    "bursting_izhi_neuron = Izhi(\n",
    "    a = 0.02,\n",
    "    b = 0.2,\n",
    "    c = -55,\n",
    "    d = 4,\n",
    "    Vth = 30,\n",
    "    T = 100,\n",
    "    dt = 0.01\n",
    ")\n",
    "\n",
    "chattering_izhi_neuron = Izhi(\n",
    "    a = 0.02,\n",
    "    b = 0.2,\n",
    "    c = -50,\n",
    "    d = 2,\n",
    "    Vth = 30,\n",
    "    T = 100,\n",
    "    dt = 0.01\n",
    ")\n",
    "\n",
    "#2. Run the simulation and obtain the results.\n",
    "bursting_izhi_neuron.run()\n",
    "chattering_izhi_neuron.run()"
   ]
  },
  {
   "cell_type": "markdown",
   "metadata": {},
   "source": [
    "# Question 3: The LIF Neuron\n",
    "\n",
    "## 3a. \n",
    "In this question, you will implement the almighty leaky integrate and fire neuron (LIF). The LIF neuron is the most widely-used model of a neuron in the SNN literature and you will be using it a lot for your course assignments and for your project. Below is the class definition of an LIF neuron. Just like the Izhi neuron, we will use Euler's method to perform integration. There is one key difference however: For HH and Izhi implementations, the neuron was taking current as the input. In our LIF implementation, the neuron takes spike-trains as inputs and produces spike-trains as output, similarly to how a real neuron works. \n",
    "\n",
    "As a hint, we provide here a discrete-time version of an LIF neuron:\n",
    "\n",
    "* First, integrate the input spikes into current with some decay factor\n",
    "\n",
    "$$C[t] = C[t-1] * current\\_decay + input\\_spike[t]$$\n",
    "\n",
    "* Then, integrate the current  into voltage with some decay factor\n",
    "\n",
    "$$V[t] = V[t-1] * voltage\\_decay + C[t]$$\n",
    "\n",
    "* Lastly produce a spike if the voltage exceeds the threshold, and reset voltage\n",
    "\n",
    "$$if V[t] >= Vth  \\\\ output\\_spike[t] = 1 \\ and \\ V[t] = Rest\\_Potential $$"
   ]
  },
  {
   "cell_type": "code",
   "execution_count": 9,
   "metadata": {},
   "outputs": [],
   "source": [
    "class LIF():\n",
    "    \"\"\"Implementation of Leaky integrate and fire neuron Model\"\"\"\n",
    "    def __init__(self, dc, dv, Vth, Vr):\n",
    "        \"\"\"\n",
    "        :param dc: Decay factor for current\n",
    "        :param dv: Decay factor for voltage\n",
    "        :param Vth: Voltage Threshold\n",
    "        :param Vr: Rest potential \n",
    "        \n",
    "        This function is complete. You do not need to do anything here\n",
    "        \"\"\"\n",
    "        self.dc = dc\n",
    "        self.dv = dv\n",
    "        self.Vth = Vth\n",
    "        self.Vr = Vr\n",
    "    \n",
    "    def run(self, in_spikes):\n",
    "        \"\"\"\n",
    "        Main function to simulate LIF neuron\n",
    "        :param in_spikes: Input spike train\n",
    "        :return out_spikes: output spike train\n",
    "        \n",
    "        Fill in the parts for updating Cm, Vm, and the condition for spiking and resetting.\n",
    "        \"\"\"\n",
    "        Vm, Cm, out_spikes = [np.zeros(len(in_spikes)) for _ in range(3)] # Initialize the state variables.\n",
    "        for t in range(1, len(in_spikes)): # Time loop to perform Euler's Integration.\n",
    "            Cm[t] =  Cm[t-1] * -self.dc + in_spikes[t] # Integrate input spikes into current.\n",
    "            Vm[t] = Vm[t-1] * -self.dv + Cm[t] # Integrate current into voltage.\n",
    "            \n",
    "            # Condition for when membrane potential is greater than the threshold.\n",
    "            if Vm[t] >= self.Vth:\n",
    "                out_spikes[t] = 1 # Output spike.\n",
    "                Vm[t] = self.Vr # Reset membrane potential.\n",
    "        \n",
    "        return out_spikes"
   ]
  },
  {
   "cell_type": "markdown",
   "metadata": {},
   "source": [
    "## 3b. \n",
    "Based on the class definition above, create an LIF neuron with the following parameters: dc = 0.5, dv = 0.5, Vth = 0.50, Vr = 0. \n",
    "Then apply to the neuron a random spike train for 15 timesteps. You might find the following numpy package useful to generate the input spike train:\n",
    "https://numpy.org/doc/stable/reference/random/generated/numpy.random.choice.html\n",
    "\n",
    "Simulate the neuron and print input and output spikes. "
   ]
  },
  {
   "cell_type": "code",
   "execution_count": 10,
   "metadata": {},
   "outputs": [
    {
     "name": "stdout",
     "output_type": "stream",
     "text": [
      "Input spikes: [1 1 1 0 0 1 1 1 1 1 0 1 1 1 0]\n",
      "Output spikes: [0. 1. 1. 0. 0. 1. 1. 1. 1. 1. 0. 1. 0. 1. 0.]\n"
     ]
    }
   ],
   "source": [
    "#1. Create an LIF neuron with the required parameters using the class definition above.\n",
    "neuron = LIF(\n",
    "    dc = 0.5,\n",
    "    dv = 0.5,\n",
    "    Vth = 0.50,\n",
    "    Vr = 0.0)\n",
    "\n",
    "#2. Generate a random input spike train of 15 timesteps using the numpy random choice library function.\n",
    "input_spikes = np.random.choice([0, 1], size=15)\n",
    "\n",
    "#3. Print the input spikes.\n",
    "print(\"Input spikes:\", input_spikes)\n",
    "\n",
    "#4. Stimulate the LIF neuron with input spikes and return the output spikes.\n",
    "output_spikes = neuron.run(input_spikes)\n",
    "\n",
    "#5. Print the output spikes.\n",
    "print(\"Output spikes:\", output_spikes)"
   ]
  },
  {
   "cell_type": "markdown",
   "metadata": {},
   "source": [
    "# Question 4: Biology vs. Efficiency\n",
    "Now that you have simulated spiking neuron models at different levels of abstraction, we will learn how to differentiate between the three neuron models that we have developed, based on the following criteria:\n",
    "* Biological realism\n",
    "* Computational Efficiency\n",
    "\n",
    "Can you describe for what tasks might you need an HH model? For what tasks would an LIF neuron be a better alternative?\n",
    "*Hint*: Why one should use a neuron model that replicates several of the neuron's mechanisms vs. using a model that emulates the neuron as a spike-in-spike-out black box. "
   ]
  },
  {
   "cell_type": "markdown",
   "metadata": {},
   "source": [
    "## Answer 4:\n",
    "\n",
    "**Hodgkin-Huxley (HH) Model:**\n",
    "The HH model is biologically realistic because it captures the biophysical mechanisms of ion channels and membrane dynamics. It models the behavior of voltage-gated ion channels, including sodium and potassium channels, and accounts for the interactions between these channels that lead action potential generation and propagation. It also provides a very detailed explanation of a neuron via circuit modeling.\n",
    "\n",
    "The HH Model can be extremely useful for tasks that require understanding the granular mechanisms of neurons. For instance, one application could be expanding on the effects of action potential generation and propagation along patients diagnosed with Alzheimer's. However, due to the layers of science HH takes into account, it can be require more resources. Additionally, the framework for the HH Model is dependent on a system of differential equations, which can be extremely time-consuming for more complex research questions.\n",
    "\n",
    "**Leaky Integrate-and-Fire (LIF) Neuron Model:**\n",
    "The LIF model is not as biologically realistic, *but* it captures the main mechanisms of neurons by simplifying input to linear dimensions. It models the integration of synaptic inputs, the generation of action potentials when the membrane potential crosses a threshold, and the refractory period following a spike.\n",
    "\n",
    "The LIF is a better alternative for tasks that require large-scale neural network simulations, like spiking neural networks for ML projects! In fact, I believe LIF neurons will enable us to build better layers when programming a complex neural network. It is much more abstract, so students are also better able to grasp the mechanical workings of a neuron, which is basically input spikes -> propagation -> output spikes."
   ]
  },
  {
   "cell_type": "markdown",
   "metadata": {},
   "source": [
    "# Question 5: Tuning Membrane Properties of the LIF neuron\n",
    "## 5a.\n",
    "In this question, you will understand how to tune the membrane properties of an LIF neuron. First, generate 19 inputs in the form of random spike trains of length 50, i.e. 50 timesteps. The inputs will have different levels of probabilities for spike generation, that ranges between 0.1 and 1.0 with step size of 0.05. In other words, you will create 19 spike trains with the first spike train having the probability of 0.1 to generate spikes at any timestep, the second spike train will have the spike generation probability of 0.15, and so on. \n",
    "\n",
    "Simulate an LIF neuron with the parameters defined in Question 3b. You will now drive the neuron model with the 19 randomly generated input spike trains that you have created, and compute the output spike train. \n",
    "At the same time, compute the input firing rate and output firing rate for each simulation. Firing rate is defined as the mean of the spike train, i.e. total number of spikes/timesteps"
   ]
  },
  {
   "cell_type": "code",
   "execution_count": 11,
   "metadata": {},
   "outputs": [
    {
     "data": {
      "image/png": "[encoded data removed]",
      "text/plain": [
       "<Figure size 432x288 with 1 Axes>"
      ]
     },
     "metadata": {
      "needs_background": "light"
     },
     "output_type": "display_data"
    },
    {
     "data": {
      "image/png": "[encoded data removed]",
      "text/plain": [
       "<Figure size 432x288 with 1 Axes>"
      ]
     },
     "metadata": {
      "needs_background": "light"
     },
     "output_type": "display_data"
    }
   ],
   "source": [
    "def lif_behavior(lif):\n",
    "    \"\"\"Function to understand the behavior of LIF neuron for different densities of spike inputs.\n",
    "    :param lif: An instance of the LIF neuron\n",
    "    \"\"\"\n",
    "    #1. Create lists to store the input and output firing rates.\n",
    "    in_fr = [] # Input firing rate\n",
    "    out_fr = [] # Output firing rate\n",
    "    \n",
    "    #2. Create a list of probabilities: from 0.1 to 1.0 with step size of 0.05.\n",
    "    # You might find the numpy arange function helpful here.\n",
    "    probabilities = np.arange(0.1, 1.0, 0.05)\n",
    "    \n",
    "    #3. Loop through the range of probabilities.\n",
    "    for p in probabilities:\n",
    "        #print('p =', p)\n",
    "        in_spikes = np.random.choice([0, 1], size = 50, p=[1 - p, p]) # Sample input spikes using np.random.choice function.\n",
    "        \n",
    "        # Compute input firing rate and append to the in_fr list.\n",
    "        input_firing_rate = np.mean(in_spikes)\n",
    "        in_fr.append(input_firing_rate)\n",
    "        #print('\\tin =', input_firing_rate)\n",
    "        \n",
    "        # Obtain output spikes by applying the input to the LIF neuron.\n",
    "        output_spikes = lif.run(in_spikes)\n",
    "        \n",
    "        # Compute output firing rate and append to the out_fr list.\n",
    "        output_firing_rate = np.mean(output_spikes)\n",
    "        out_fr.append(output_firing_rate)\n",
    "        #print('\\tout =', output_firing_rate)\n",
    "    \n",
    "    # Plot the input and output firing rates. Nothing to do here. This part is complete.\n",
    "    plt.figure()\n",
    "    plt.subplot(2,1,1)\n",
    "    plt.title('output firing rate')\n",
    "    plt.plot(out_fr, 'k')\n",
    "    plt.ylabel('Out F.R.')\n",
    "    plt.ylim([0,1])\n",
    "\n",
    "    plt.figure()\n",
    "    plt.subplot(2,1,2)\n",
    "    plt.plot(in_fr, 'k')\n",
    "    plt.ylabel('In F.R.')\n",
    "    plt.ylim([0,1])\n",
    "    plt.show()\n",
    "\n",
    "# Run the lif behavior function for the LIF neuron that we created previously.\n",
    "lif_behavior(neuron)"
   ]
  },
  {
   "cell_type": "markdown",
   "metadata": {},
   "source": [
    "## 5b. \n",
    "Describe how soon does the output firing rate start to saturate? Can you describe why this could be problematic? *Hint: Think from the point of view of distinguishing between two different inputs based on firing activity*."
   ]
  },
  {
   "cell_type": "markdown",
   "metadata": {},
   "source": [
    "## Answer 5b.\n",
    "The output firing rate starts to saturate at around x = 1.0. 'Saturation' in this context is when the output firing rate begins to dramatically change as a function time. Notice how after x = 1.0, we begin to observe dramatic sharp turns indicating great increments of loss or gain. In fact, there are more fluctuations as the firing rate tends to strictly decrease and increase. While the general trend of the firing rate is increasing, it is not a gradual progression. This suggests that the neuron's responsiveness to changes in p diminishes as p becomes higher. This can be problematic because it becomes less sensitive to changes in the input spike train. As a result, two different inputs with slightly different spike probabilities may produce similar output firing rates."
   ]
  },
  {
   "cell_type": "markdown",
   "metadata": {},
   "source": [
    "## 5c. \n",
    "Change the membrane properties of the LIF neuron to resolve the issue of saturation. In other words, experiment on setting different parameter values that do not allow the output firing rate to saturate so early. *Hint: You may want to start by changing one variable at a time, and see its effect. Try to move it slightly, or abruptly, up or down. Then move to the next parameter, until you see what is its effect on the neuron's output.* "
   ]
  },
  {
   "cell_type": "code",
   "execution_count": 18,
   "metadata": {},
   "outputs": [
    {
     "data": {
      "image/png": "[encoded data removed]",
      "text/plain": [
       "<Figure size 432x288 with 1 Axes>"
      ]
     },
     "metadata": {
      "needs_background": "light"
     },
     "output_type": "display_data"
    },
    {
     "data": {
      "image/png": "[encoded data removed]",
      "text/plain": [
       "<Figure size 432x288 with 1 Axes>"
      ]
     },
     "metadata": {
      "needs_background": "light"
     },
     "output_type": "display_data"
    }
   ],
   "source": [
    "#1. Create an LIF neuron with appropriately tuned membrane properties.\n",
    "neuron2 = LIF(\n",
    "    dc = 0.10, # Decrease current decay.\n",
    "    dv = 0.20, # Decrease voltage decay.\n",
    "    Vth = 0.4, # Decrease voltage threshold.\n",
    "    Vr = 0.1) # Increase rest potential.\n",
    "\n",
    "#2. Call the lif behavior function on the tuned lif neuron.\n",
    "lif_behavior(neuron2)"
   ]
  },
  {
   "cell_type": "markdown",
   "metadata": {},
   "source": [
    "## 5d.\n",
    "Based on the above results, can you describe how changing the H-H parameters changes the voltage threshold of a spiking neuron as a function of the input spikes?"
   ]
  },
  {
   "cell_type": "markdown",
   "metadata": {},
   "source": [
    "## Answer 5d.\n",
    "In Hodgkin-Huxley, the voltage threshold for spiking is  determined by the balance between inward and outward currents across the cell membrane. This balance is influenced by the different parameters in the model, more specifically the conductance of different ion channels.\n",
    "\n",
    "**Threshold Sodium Conductance (g_Na)**:\n",
    "Increasing g_Na will make the neuron more excitable and lower its threshold for firing action potentials. This is because a higher g_Na leads to a faster and larger *inward* sodium current during depolarization, thus enabling the cell to reach the voltage threshold much faster. Once reached, cell will likely enter a refractory period, during which other input spikes cannot be processed.\n",
    "\n",
    "**Threshold Potassium Conductance (g_K)**:\n",
    "Increasing g_K tends to hyperpolarize the neuron and raise its firing threshold. This is because a higher g_K allows more potassium ions to flow out of the cell during depolarization, opposing depolarization and making it more difficult for the membrane potential to reach the threshold for an action potential to occur. So, if there are multiple input spikes coming into the cell, it will likely take longer to process the output spikes.\n",
    "\n",
    "**Leak Conductance (g_L)**:\n",
    "g_L represents the passive, non-specific ion channels that contribute to the resting membrane conductance. Increasing g_L can depolarize the resting membrane potential, which in turn affects the threshold for action potential.\n",
    "\n",
    "By changing the conductance of ion channels, H-H model has to take into account how this change will affect the chemical gradient and the electrical gradient across the neuronal membrane."
   ]
  },
  {
   "cell_type": "markdown",
   "metadata": {},
   "source": [
    "# Question 6: Encoding continuous inputs into spikes\n",
    "## 6a.\n",
    "Now we will understand how we can represent continuous-valued inputs as spikes so that drive our spiking neuron. Describe two prominent ways to encode a continuous-valued input into the spiking activity of a neuron. "
   ]
  },
  {
   "cell_type": "markdown",
   "metadata": {},
   "source": [
    "## Answer 6a.\n",
    "**Rate Encoding:** In rate encoding, the magnitude of a continuous-valued input is represented by the firing rate of the spiking neuron. The higher the input intensity, the higher the firing rate of the neuron (and vice versa). This method involves mapping the input value to a corresponding firing rate using an encoding function.\n",
    "\n",
    "Rate-based encoding is intuitive and easy to implement, and it allows for straightforward interpretation of the input-output relationship. However, it may require specific tuning of parameters to achieve the proper encoding properties.\n",
    "\n",
    "**Temporal Encoding:** In temporal encoding, information about the continuous-valued input is encoded in the timing of spikes generated by the neuron. The input value is represented by the timing of individual spikes within a spike train.\n",
    "\n",
    "Temporal encoding is best for capturing dynamic and time-based features of continuous signals. It can efficiently represent rapid changes in input values and is good against noisy measurements. However, temporal encoding may require more complex decoding mechanisms to extract information from spike trains, and it may be sensitive to timing variations."
   ]
  },
  {
   "cell_type": "markdown",
   "metadata": {},
   "source": [
    "## 6b. \n",
    "So far we have learned how we can stimulate a spiking neuron using spike inputs. In this exercise, you will learn how to encode real-world data into spikes that can then be fed as inputs to the spiking neuron. We will take a digit from the popular MNIST dataset as an example. First let's see what a sample digit from the MNIST image looks like. For this, we need to create a loader for the MNIST dataset using a Pytorch function called datasets.MNIST. You do not need to know what a loader is for now. Just understand the two important arguments of the function: The first argument is the directory where the MNIST dataset will be downloaded. The third argument is the set download option. This should be true for the first time when you run this cell to allow you to download the MNIST data into your directory. You can set it to false if the MNIST data has already been downloaded. "
   ]
  },
  {
   "cell_type": "code",
   "execution_count": 13,
   "metadata": {},
   "outputs": [
    {
     "data": {
      "text/plain": [
       "<matplotlib.image.AxesImage at 0x7fe0206e2f90>"
      ]
     },
     "execution_count": 13,
     "metadata": {},
     "output_type": "execute_result"
    },
    {
     "data": {
      "image/png": "[encoded data removed]",
      "text/plain": [
       "<Figure size 432x288 with 1 Axes>"
      ]
     },
     "metadata": {
      "needs_background": "light"
     },
     "output_type": "display_data"
    }
   ],
   "source": [
    "import random\n",
    "\n",
    "# Create a loader.\n",
    "mnist = datasets.MNIST(root='./data', train=False, download=True, transform=transforms.ToTensor())\n",
    "\n",
    "# You can access any sample digit from the MNIST dataset using simple indexing mnist[idx].\n",
    "# This returns the digit and the label.\n",
    "# We are only interested in the digit. \n",
    "x, _ = random.choice(mnist)\n",
    "# x, _ = mnist[24] # uncomment this line if you want to fix the target image.\n",
    "\n",
    "# Convert to numpy.\n",
    "x = x.numpy()[0]\n",
    "\n",
    "# Visualize.\n",
    "plt.imshow(x)"
   ]
  },
  {
   "cell_type": "markdown",
   "metadata": {},
   "source": [
    "Let's now encode the image in the form of spikes using rate-encoding. Suppose that each pixel in the image needs to be encoded in a spike train of length 1. The steps to encode are outlined below:\n",
    "* For each pixel in the image, sample a random number.\n",
    "* If the pixel intensity is greater than the generated random number, output a spike. \n",
    "* Repeat for as many timesteps as you need to encode the image for. \n",
    "* Repeat for all pixels"
   ]
  },
  {
   "cell_type": "code",
   "execution_count": 14,
   "metadata": {},
   "outputs": [
    {
     "data": {
      "text/plain": [
       "(1, 28, 28)"
      ]
     },
     "execution_count": 14,
     "metadata": {},
     "output_type": "execute_result"
    }
   ],
   "source": [
    "#0. Decide the number of spike train here. Let us say n_spike = 1 here.\n",
    "n_spike = 1\n",
    "row, col = x.shape\n",
    "spikes = np.zeros((n_spike, row, col))\n",
    "\n",
    "#1. Use the numpy.random.rand function to encode the MNIST image into spikes.\n",
    "for s in range(n_spike):\n",
    "    for i in range(row):\n",
    "        for j in range(col):\n",
    "            pixel_intensity = x[i, j]\n",
    "            random_number = np.random.rand()\n",
    "            \n",
    "            if pixel_intensity > random_number:\n",
    "                spikes[s, i, j] = 1\n",
    "            else:\n",
    "                spikes[s, i, j] = 0\n",
    "\n",
    "#2. Output the shape of the spike-encoded image using numpy.shape. (Hint: the spike-encoded image should be a 3d array).\n",
    "spikes.shape"
   ]
  },
  {
   "cell_type": "markdown",
   "metadata": {},
   "source": [
    "## 6c. \n",
    "Now, we will decode the image back from the spike-based representation. Can you think of a way to get the pixel values back? *Hint: Think aggregate measures on the spike trains for each pixel. Aggregation means compressing of the channel from n to 1.*"
   ]
  },
  {
   "cell_type": "code",
   "execution_count": 15,
   "metadata": {},
   "outputs": [
    {
     "data": {
      "text/plain": [
       "<matplotlib.image.AxesImage at 0x7fe020a5f210>"
      ]
     },
     "execution_count": 15,
     "metadata": {},
     "output_type": "execute_result"
    },
    {
     "data": {
      "image/png": "[encoded data removed]",
      "text/plain": [
       "<Figure size 432x288 with 1 Axes>"
      ]
     },
     "metadata": {
      "needs_background": "light"
     },
     "output_type": "display_data"
    }
   ],
   "source": [
    "#1. Compute some aggregate measure of spike trains for each pixel to get the image back.\n",
    "# Numpy aggregate functions might be useful here.\n",
    "average_firing_rates = np.mean(spikes, axis=0)\n",
    "decoded_image = np.zeros((row, col))\n",
    "\n",
    "for spike_train in spikes:\n",
    "    decoded_image += spike_train\n",
    "    \n",
    "# If average firing rate > threshold, set pixel value to 1, otherwise set to 0.\n",
    "threshold = np.random.rand()\n",
    "decoded_image[decoded_image <= (threshold * n_spike)] = 0\n",
    "decoded_image[decoded_image > (threshold * n_spike)] = 1\n",
    "\n",
    "#2. Visualize the reconstructed image.\n",
    "plt.imshow(decoded_image)"
   ]
  },
  {
   "cell_type": "markdown",
   "metadata": {},
   "source": [
    "Is it possible to get the exact image back? Why/Why not?"
   ]
  },
  {
   "cell_type": "markdown",
   "metadata": {},
   "source": [
    "## Answer 6c.\n",
    "It is not possible to get the *exact* image back because it is evident from the plot above that only 'yellow' pixels are properly coded, as opposed to the 'green' and 'blue' pixels. When converting and reverting structures based on randomized probability thresholds over the pixels, there is bound to be a significant amount of data loss. While the conversion will return an image *similar* to the original image, it will not be a carbon copy. The rate-encoding process can differ based on the resulting numeric properties it entails."
   ]
  },
  {
   "cell_type": "markdown",
   "metadata": {},
   "source": [
    "## 6d. \n",
    "Can you think of a way to encode the image into spikes in a way such that the decoded image looks as close as possible to the original image? *Hint: Think timesteps*."
   ]
  },
  {
   "cell_type": "code",
   "execution_count": 16,
   "metadata": {},
   "outputs": [
    {
     "data": {
      "text/plain": [
       "<matplotlib.image.AxesImage at 0x7fe0205f3590>"
      ]
     },
     "execution_count": 16,
     "metadata": {},
     "output_type": "execute_result"
    },
    {
     "data": {
      "image/png": "[encoded data removed]",
      "text/plain": [
       "<Figure size 432x288 with 1 Axes>"
      ]
     },
     "metadata": {
      "needs_background": "light"
     },
     "output_type": "display_data"
    }
   ],
   "source": [
    "#1. Create a \"better\" encoding of the image.\n",
    "time_steps = 100  # Number of time steps.\n",
    "threshold = 0.1  # Threshold for spike generation.\n",
    "\n",
    "row2, col2 = x.shape\n",
    "spikes2 = np.zeros((time_steps, row2, col2))\n",
    "\n",
    "for i in range(row):\n",
    "    for j in range(col):\n",
    "        pixel_intensity = x[i, j]\n",
    "        \n",
    "        for t in range(time_steps):\n",
    "            if pixel_intensity > threshold:\n",
    "                spikes2[t, i, j] = 1\n",
    "            else:\n",
    "                spikes2[t, i, j] = 0\n",
    "\n",
    "#2. Compute and visualize the decoded image.\n",
    "average_firing_rates = np.mean(spikes2, axis=0)\n",
    "decoded_image2 = np.zeros((time_steps, row2, col2))\n",
    "\n",
    "for spike_train in spikes2:\n",
    "    decoded_image2 += spike_train\n",
    "    \n",
    "# If average firing rate > threshold, set pixel value to 1, otherwise set to 0.\n",
    "decoded_image2[decoded_image2 < (threshold)] = 0\n",
    "decoded_image2[decoded_image2 >= (threshold)] = 1\n",
    "\n",
    "plt.imshow(decoded_image)"
   ]
  },
  {
   "cell_type": "markdown",
   "metadata": {},
   "source": [
    "If each intensity pixel is represented with a value between [0, 255], what would be a reasonable timestep to encode it accurately? What might be a disadvantage of this solution?"
   ]
  },
  {
   "cell_type": "markdown",
   "metadata": {},
   "source": [
    "## Answer 6d. \n",
    "A resonable timestep to encode a pixel whose value ranges from [0, 255] would be within the range of 50-100 milliseconds. This keeps the range small to ensure obtaining information about gradual changes in pixel intensity. However, this would be a disadvantage if the image changes dynamically. Using small timesteps would then only increase computational complexity. So, finding the right timestep for temporal encoding is highly dependent on the actual behavior of the image being encoded, as well as its range in intensity."
   ]
  },
  {
   "cell_type": "markdown",
   "metadata": {},
   "source": [
    "## 6e\n",
    "\n",
    "Can you try at least **two** other aggregation functions to decode the images and describe the differences among them."
   ]
  },
  {
   "cell_type": "code",
   "execution_count": 17,
   "metadata": {},
   "outputs": [
    {
     "data": {
      "text/plain": [
       "<matplotlib.image.AxesImage at 0x7fe020521310>"
      ]
     },
     "execution_count": 17,
     "metadata": {},
     "output_type": "execute_result"
    },
    {
     "data": {
      "image/png": "[encoded data removed]",
      "text/plain": [
       "<Figure size 432x288 with 1 Axes>"
      ]
     },
     "metadata": {
      "needs_background": "light"
     },
     "output_type": "display_data"
    }
   ],
   "source": [
    "#1. Same instruction as 6c.\n",
    "decoded_image_median = np.median(spikes, axis=0)\n",
    "decoded_image_median[decoded_image_median < (threshold)] = 0\n",
    "decoded_image_median[decoded_image_median >= (threshold)] = 1\n",
    "\n",
    "# Maximum aggregation decoding\n",
    "decoded_image_max = np.max(spikes, axis=0)\n",
    "decoded_image_max[decoded_image_max < (threshold)] = 0\n",
    "decoded_image_max[decoded_image_max >= (threshold)] = 1\n",
    "\n",
    "#2. Plot the results.\n",
    "plt.imshow(decoded_image_median)\n",
    "plt.imshow(decoded_image_max)"
   ]
  },
  {
   "cell_type": "markdown",
   "metadata": {},
   "source": [
    "## Answer 6e. \n",
    "I attempted to use median aggregation and maximum aggregation. Rather than taking the average, these two aggregation functions compute the median or maximum value of spike intensities across time steps for each pixel, respectively. These measurements are particularily of use because it eliminates outliers (which average doesn't). Additionally, median looks at spikes that follow a pattern rather abrupt spikes, while maximum looks at the highest intensity values that can capture more dynamic changes within the image."
   ]
  },
  {
   "cell_type": "code",
   "execution_count": null,
   "metadata": {},
   "outputs": [],
   "source": []
  }
 ],
 "metadata": {
  "kernelspec": {
   "display_name": "Python 3",
   "language": "python",
   "name": "python3"
  },
  "language_info": {
   "codemirror_mode": {
    "name": "ipython",
    "version": 3
   },
   "file_extension": ".py",
   "mimetype": "text/x-python",
   "name": "python",
   "nbconvert_exporter": "python",
   "pygments_lexer": "ipython3",
   "version": "3.7.7"
  }
 },
 "nbformat": 4,
 "nbformat_minor": 4
}
